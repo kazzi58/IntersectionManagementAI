{
 "cells": [
  {
   "cell_type": "code",
   "execution_count": 12,
   "metadata": {},
   "outputs": [],
   "source": [
    "import pymzn\n",
    "pymzn.debug()"
   ]
  },
  {
   "cell_type": "code",
   "execution_count": 14,
   "metadata": {},
   "outputs": [
    {
     "name": "stderr",
     "output_type": "stream",
     "text": [
      "Starting preliminaries, received arguments: {'include': None, 'stdlib_dir': None, 'globals_dir': None, 'output_vars': None, 'keep': False, 'output_base': None, 'output_mode': 'dict', 'declare_enums': True, 'allow_multiple_assignments': False}\n",
      "Executing minizinc with arguments: ('--version',)\n",
      "Using MiniZinc 2.3.1.\n",
      "Preprocessing model with arguments: {}\n",
      "Executing minizinc with arguments: ('--model-check-only', '-')\n",
      "Model checking passed.\n",
      "Executing minizinc with arguments: ('--model-types-only', '-')\n",
      "Found var types: {'maxQueue': {'type': 'int'}, 'AllPaths': {'type': 'int', 'set': True}, 'Serial': {'type': 'int', 'set': True}, 'Property': {'type': 'int', 'set': True}, 'WaitingQueue': {'type': 'int', 'dim': 3, 'dims': ['int', 'int', 'int']}, 'NewWaitingQueue': {'type': 'int', 'dim': 3, 'dims': ['int', 'int', 'int']}, 'paths': {'type': 'int', 'dim': 1, 'dims': ['int']}, 'oldPaths': {'type': 'int', 'dim': 1, 'dims': ['int']}, 'WaitingCost': {'type': 'int'}, 'TotalSum': {'type': 'int'}}\n",
      "Executing minizinc with arguments: ('--model-interface-only', '-')\n",
      "Found model interface: {'input': {'maxQueue': {'type': 'int'}, 'AllPaths': {'type': 'int', 'set': True}, 'Serial': {'type': 'int', 'set': True}, 'Property': {'type': 'int', 'set': True}, 'WaitingQueue': {'type': 'int', 'dim': 3}, 'oldPaths': {'type': 'int', 'dim': 1}}, 'output': {'NewWaitingQueue': {'type': 'int', 'dim': 3}, 'paths': {'type': 'int', 'dim': 1}}, 'method': 'min'}\n",
      "Substituting model output statement: output [\"NewWaitingQueue = array3d(\", show(index_set_1of3(NewWaitingQueue)), \", \", show(index_set_2of3(NewWaitingQueue)), \", \", show(index_set_3of3(NewWaitingQueue)), \", \", show(NewWaitingQueue), \");\\n\", \"paths = array1d(\", show(index_set(paths)), \", \", show(paths), \");\\n\"];\n",
      "Generated file: C:\\Users\\USER\\AppData\\Local\\Temp\\pymzn_e4p743cx.mzn\n",
      "Executing minizinc with arguments: ('--instance-check-only', 'IMData.dzn', '-')\n",
      "Instance checking passed.\n",
      "Derived output_mode: item\n",
      "Executing minizinc with arguments: ('--solver', 'gecode', '-s', '-v', '--output-mode', 'item', 'C:\\\\Users\\\\USER\\\\AppData\\\\Local\\\\Temp\\\\pymzn_e4p743cx.mzn', 'IMData.dzn')\n",
      "Solving completed in 109.22 sec\n",
      "Deleted file: C:\\Users\\USER\\AppData\\Local\\Temp\\pymzn_e4p743cx.mzn\n",
      "Creating solution parser with arguments: {'output_mode': 'dict', 'rebase_arrays': True, 'types': {'maxQueue': {'type': 'int'}, 'AllPaths': {'type': 'int', 'set': True}, 'Serial': {'type': 'int', 'set': True}, 'Property': {'type': 'int', 'set': True}, 'WaitingQueue': {'type': 'int', 'dim': 3, 'dims': ['int', 'int', 'int']}, 'NewWaitingQueue': {'type': 'int', 'dim': 3, 'dims': ['int', 'int', 'int']}, 'paths': {'type': 'int', 'dim': 1, 'dims': ['int']}, 'oldPaths': {'type': 'int', 'dim': 1, 'dims': ['int']}, 'WaitingCost': {'type': 'int'}, 'TotalSum': {'type': 'int'}}, 'keep_solutions': True, 'return_enums': False}\n",
      "Started parsing solver output.\n",
      "Solutions parsed: 0\n",
      "Final status: 6\n"
     ]
    },
    {
     "name": "stdout",
     "output_type": "stream",
     "text": [
      "ERROR\n"
     ]
    }
   ],
   "source": [
    "solution = pymzn.minizinc(\"IntersectionManagement.mzn\",\"IMData.dzn\")\n",
    "print(solution)"
   ]
  },
  {
   "cell_type": "code",
   "execution_count": null,
   "metadata": {},
   "outputs": [],
   "source": []
  },
  {
   "cell_type": "code",
   "execution_count": 24,
   "metadata": {},
   "outputs": [
    {
     "ename": "TypeError",
     "evalue": "Can't instantiate abstract class Instance with abstract methods __init__, method, solve",
     "output_type": "error",
     "traceback": [
      "\u001b[1;31m---------------------------------------------------------------------------\u001b[0m",
      "\u001b[1;31mTypeError\u001b[0m                                 Traceback (most recent call last)",
      "\u001b[1;32m<ipython-input-24-4f70a8748a80>\u001b[0m in \u001b[0;36m<module>\u001b[1;34m\u001b[0m\n\u001b[0;32m      4\u001b[0m \u001b[0mgecode\u001b[0m \u001b[1;33m=\u001b[0m \u001b[0mSolver\u001b[0m\u001b[1;33m.\u001b[0m\u001b[0mlookup\u001b[0m\u001b[1;33m(\u001b[0m\u001b[1;34m\"gecode\"\u001b[0m\u001b[1;33m)\u001b[0m\u001b[1;33m\u001b[0m\u001b[1;33m\u001b[0m\u001b[0m\n\u001b[0;32m      5\u001b[0m \u001b[1;31m# Create an Instance of the n-Queens model for Gecode\u001b[0m\u001b[1;33m\u001b[0m\u001b[1;33m\u001b[0m\u001b[1;33m\u001b[0m\u001b[0m\n\u001b[1;32m----> 6\u001b[1;33m \u001b[0minstance\u001b[0m \u001b[1;33m=\u001b[0m \u001b[0mInstance\u001b[0m\u001b[1;33m(\u001b[0m\u001b[0mgecode\u001b[0m\u001b[1;33m,\u001b[0m \u001b[0mnqueens\u001b[0m\u001b[1;33m)\u001b[0m\u001b[1;33m\u001b[0m\u001b[1;33m\u001b[0m\u001b[0m\n\u001b[0m\u001b[0;32m      7\u001b[0m \u001b[1;31m# Assign 4 to n\u001b[0m\u001b[1;33m\u001b[0m\u001b[1;33m\u001b[0m\u001b[1;33m\u001b[0m\u001b[0m\n\u001b[0;32m      8\u001b[0m \u001b[0minstance\u001b[0m\u001b[1;33m[\u001b[0m\u001b[1;34m\"n\"\u001b[0m\u001b[1;33m]\u001b[0m \u001b[1;33m=\u001b[0m \u001b[1;36m4\u001b[0m\u001b[1;33m\u001b[0m\u001b[1;33m\u001b[0m\u001b[0m\n",
      "\u001b[1;31mTypeError\u001b[0m: Can't instantiate abstract class Instance with abstract methods __init__, method, solve"
     ]
    }
   ],
   "source": [
    "# Load n-Queens model from file\n",
    "nqueens = Model(\"nqueen.mzn\")\n",
    "# Find the MiniZinc solver configuration for Gecode\n",
    "gecode = Solver.lookup(\"gecode\")\n",
    "# Create an Instance of the n-Queens model for Gecode\n",
    "instance = Instance(gecode, nqueens)\n",
    "# Assign 4 to n\n",
    "instance[\"n\"] = 4\n",
    "result = instance.solve()\n",
    "# Output the array q\n",
    "print(result[\"q\"])"
   ]
  },
  {
   "cell_type": "code",
   "execution_count": null,
   "metadata": {},
   "outputs": [],
   "source": []
  },
  {
   "cell_type": "code",
   "execution_count": null,
   "metadata": {},
   "outputs": [],
   "source": []
  }
 ],
 "metadata": {
  "kernelspec": {
   "display_name": "Python 3",
   "language": "python",
   "name": "python3"
  },
  "language_info": {
   "codemirror_mode": {
    "name": "ipython",
    "version": 3
   },
   "file_extension": ".py",
   "mimetype": "text/x-python",
   "name": "python",
   "nbconvert_exporter": "python",
   "pygments_lexer": "ipython3",
   "version": "3.7.1"
  }
 },
 "nbformat": 4,
 "nbformat_minor": 2
}
