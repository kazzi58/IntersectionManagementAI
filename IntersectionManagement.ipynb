{
 "cells": [
  {
   "cell_type": "code",
   "execution_count": 53,
   "metadata": {},
   "outputs": [
    {
     "name": "stdout",
     "output_type": "stream",
     "text": [
      "The iminizinc extension is already loaded. To reload it, use:\n",
      "  %reload_ext iminizinc\n"
     ]
    }
   ],
   "source": [
    "import numpy as np\n",
    "%load_ext iminizinc"
   ]
  },
  {
   "cell_type": "code",
   "execution_count": null,
   "metadata": {
    "scrolled": true
   },
   "outputs": [],
   "source": []
  },
  {
   "cell_type": "code",
   "execution_count": null,
   "metadata": {},
   "outputs": [],
   "source": []
  },
  {
   "cell_type": "code",
   "execution_count": null,
   "metadata": {},
   "outputs": [],
   "source": []
  },
  {
   "cell_type": "code",
   "execution_count": null,
   "metadata": {},
   "outputs": [],
   "source": []
  },
  {
   "cell_type": "code",
   "execution_count": 63,
   "metadata": {},
   "outputs": [],
   "source": [
    "oldPaths = [0,0,0,0,0,0,0,0,0,0,0,0];\n",
    "WaitingQueue= [[[ 1, 5, 1, 1, 1, 1, 1, 1, 1, 1, 1, 1, 1, 0, 0],[61, 61, 61, 61, 61, 61, 61, 61, 61, 61, 61, 61, 61, 0, 0 ]],\n",
    "[[1, 1, 1, 1, 1, 1, 1, 1, 1, 1, 1, 1, 1, 1, 1],[61, 61, 61, 61, 61, 61, 61, 61, 61, 61, 61, 61, 61, 61, 61]],\n",
    "[[1, 1, 1, 1, 1, 2, 1, 3, 1, 1, 1, 1, 1, 1, 1 ],[61, 61, 61, 61, 61, 61, 61, 61, 61, 61, 61, 61, 61, 61, 61]],\n",
    "[[1, 6, 1, 2, 1, 1, 1, 1, 1, 1, 1, 1, 1, 0, 0],[61, 61, 61, 61, 61, 61, 61, 61, 61, 61, 61, 61, 61, 0, 0]],\n",
    "[[4, 1, 1, 1, 1, 1, 1, 1, 1, 1, 1, 1, 1, 0, 0],[61, 61, 61, 61, 61, 61, 61, 61, 61, 61, 61, 61, 61, 0, 0]],\n",
    "[[1, 1, 1, 1, 6, 1, 1, 1, 1, 1, 1, 1, 1, 0, 0],[61, 61, 61, 61, 61, 61, 61, 61, 61, 61, 61, 61, 61, 0, 0]],\n",
    "[[1, 1, 1, 1, 1, 1, 1, 1, 1, 5, 1, 1, 1, 0, 0],[61, 61, 61, 61, 61, 61, 61, 61, 61, 61, 61, 61, 61, 0, 0]],\n",
    "[[1, 1, 1, 7, 1, 1, 1, 4, 1, 1, 1, 1, 1, 0, 0],[61, 61, 61, 61, 61, 61, 61, 61, 61, 61, 61, 61, 61, 0, 0]],\n",
    "[[1, 1, 1, 1, 1, 1, 1, 1, 1, 1, 1, 1, 1, 1, 0],[61, 61, 61, 60, 60, 60, 60, 60, 60, 60, 60, 60, 60, 60, 0]],\n",
    "[[1, 1, 1, 1, 1, 1, 1, 1, 1, 1, 1, 1, 1, 1, 0],[61, 61, 61, 60, 60, 60, 60, 60, 60, 60, 60, 60, 60, 60, 0]],\n",
    "[[1, 1, 1, 1, 1, 1, 1, 1, 1, 1, 1, 1, 1, 1, 0],[61, 61, 61, 60, 60, 60, 60, 60, 60, 60, 60, 60, 60, 60, 0]],\n",
    "[[1, 1, 1, 1, 1, 1, 1, 1, 1, 1, 1, 1, 1, 1, 0],[61, 61, 61, 60, 60, 60, 60, 60, 60, 60, 60, 60, 60, 60, 0]]]"
   ]
  },
  {
   "cell_type": "code",
   "execution_count": 64,
   "metadata": {},
   "outputs": [
    {
     "name": "stdout",
     "output_type": "stream",
     "text": [
      "(12, 2, 15)\n"
     ]
    }
   ],
   "source": [
    "print(np.shape(WaitingQueue))"
   ]
  },
  {
   "cell_type": "code",
   "execution_count": 65,
   "metadata": {},
   "outputs": [],
   "source": [
    "%%mzn_model Intersection\n",
    "\n",
    "\n",
    "int: maxQueue = 15;\n",
    "set of int: AllPaths = 1..12;\n",
    "set of int: Serial = 1..15;\n",
    "set of int: Property = 1..2;\n",
    "\n",
    "array[AllPaths,Property,Serial] of int: WaitingQueue;\n",
    "array[AllPaths,Property,Serial] of var int: NewWaitingQueue;\n",
    "\n",
    "\n",
    "\n",
    "%Paths array holds all the 12 paths available in a 6 lane street intersection. The variables will be turned to 0 to represent red light and 1 to represent green light.\n",
    "array[AllPaths] of var 0..1: paths;\n",
    "\n",
    "array[AllPaths] of 0..1: oldPaths;\n",
    "\n",
    "%Cost of keeping a red light red\n",
    "int:WaitingCost = 20;\n",
    "\n",
    "%All the paths that cannot be simultaneously on\n",
    "constraint paths[1]*paths[3]=0;\n",
    "constraint paths[1]*paths[6]=0;\n",
    "constraint paths[1]*paths[8]=0;\n",
    "constraint paths[1]*paths[7]=0;\n",
    "constraint paths[2]*paths[3]=0;\n",
    "constraint paths[2]*paths[4]=0;\n",
    "constraint paths[2]*paths[8]=0;\n",
    "constraint paths[2]*paths[6]=0;\n",
    "constraint paths[2]*paths[5]=0;\n",
    "constraint paths[3]*paths[5]=0;\n",
    "constraint paths[3]*paths[8]=0;\n",
    "constraint paths[4]*paths[5]=0;\n",
    "constraint paths[4]*paths[8]=0;\n",
    "constraint paths[4]*paths[6]=0;\n",
    "constraint paths[4]*paths[7]=0;\n",
    "constraint paths[5]*paths[7]=0;\n",
    "constraint paths[6]*paths[7]=0;\n",
    "constraint paths[6]*paths[8]=0;\n",
    "\n",
    "%Waiting time cannot be negative\n",
    "constraint forall(i in AllPaths,k in Serial)(NewWaitingQueue[i,2,k]>=0);\n",
    "\n",
    "%Updating the priorities\n",
    "constraint \n",
    "forall(i in AllPaths,k in Serial)(\n",
    "%RED LIGHT\n",
    "if paths[i]==0 then\n",
    "NewWaitingQueue[i,1,k]=WaitingQueue[i,1,k]\n",
    "%GREEN LIGHT\n",
    "elseif oldPaths[i]==1 /\\ k<=11 then %4 cars exiting queue\n",
    "  NewWaitingQueue[i,1,k] = WaitingQueue[i,1,k+4]\n",
    "elseif oldPaths[i]==1 /\\ k>11 then %4 new spaces in the queue\n",
    "  NewWaitingQueue[i,1,k] = 0\n",
    "elseif oldPaths[i]==0 /\\ k<=13 then %2 cars exiting queue\n",
    "  NewWaitingQueue[i,1,k] = WaitingQueue[i,1,k+2]\n",
    "elseif oldPaths[i]==0 /\\ k>13 then %2 new spaces in the queue\n",
    "  NewWaitingQueue[i,1,k] = 0\n",
    "else true\n",
    "endif\n",
    ");\n",
    "\n",
    "%Updating the waiting time\n",
    "constraint \n",
    "forall(i in AllPaths,k in Serial)(\n",
    "%RED LIGHT\n",
    "if paths[i]==0 /\\ WaitingQueue[i,1,k]>0 then \n",
    "NewWaitingQueue[i,2,k]=(WaitingQueue[i,2,k]+WaitingCost)\n",
    "%GREEN LIGHT\n",
    "elseif oldPaths[i]==1 /\\ k<=11 /\\ WaitingQueue[i,1,k+4]>0 then %4 cars exiting queue\n",
    "  NewWaitingQueue[i,2,k] = WaitingQueue[i,2,k+4]+WaitingCost\n",
    "elseif oldPaths[i]==1 /\\ k<=11 /\\ WaitingQueue[i,1,k+4]==0 then\n",
    "  NewWaitingQueue[i,2,k] = 0\n",
    "elseif oldPaths[i]==1 /\\ k>11 then %4 new spaces in the queue\n",
    "  NewWaitingQueue[i,2,k] = 0\n",
    "elseif oldPaths[i]==0 /\\ k<=13 /\\ WaitingQueue[i,1,k+2]>0 then %2 cars exiting queue\n",
    "  NewWaitingQueue[i,2,k] = WaitingQueue[i,2,k+2]+WaitingCost\n",
    "elseif oldPaths[i]==0 /\\ k<=13 /\\ WaitingQueue[i,1,k+2]==0 then\n",
    "  NewWaitingQueue[i,2,k] = 0\n",
    "elseif oldPaths[i]==0 /\\ k>13 then %2 new spaces in the queue\n",
    "  NewWaitingQueue[i,2,k] = 0\n",
    "else true\n",
    "endif\n",
    "\n",
    ");\n",
    "\n",
    "\n",
    "var int: TotalSum = sum(i in AllPaths,j in Property, k in Serial)(abs(paths[i]-1)*NewWaitingQueue[i,j,k]);\n",
    "\n",
    "solve minimize TotalSum;\n"
   ]
  },
  {
   "cell_type": "code",
   "execution_count": 66,
   "metadata": {},
   "outputs": [
    {
     "name": "stdout",
     "output_type": "stream",
     "text": [
      "[[[1, 5, 1, 1, 1, 1, 1, 1, 1, 1, 1, 1, 1, 0, 0], [61, 61, 61, 61, 61, 61, 61, 61, 61, 61, 61, 61, 61, 0, 0]], [[1, 1, 1, 1, 1, 1, 1, 1, 1, 1, 1, 1, 1, 1, 1], [61, 61, 61, 61, 61, 61, 61, 61, 61, 61, 61, 61, 61, 61, 61]], [[1, 1, 1, 1, 1, 2, 1, 3, 1, 1, 1, 1, 1, 1, 1], [61, 61, 61, 61, 61, 61, 61, 61, 61, 61, 61, 61, 61, 61, 61]], [[1, 6, 1, 2, 1, 1, 1, 1, 1, 1, 1, 1, 1, 0, 0], [61, 61, 61, 61, 61, 61, 61, 61, 61, 61, 61, 61, 61, 0, 0]], [[4, 1, 1, 1, 1, 1, 1, 1, 1, 1, 1, 1, 1, 0, 0], [61, 61, 61, 61, 61, 61, 61, 61, 61, 61, 61, 61, 61, 0, 0]], [[1, 1, 1, 1, 6, 1, 1, 1, 1, 1, 1, 1, 1, 0, 0], [61, 61, 61, 61, 61, 61, 61, 61, 61, 61, 61, 61, 61, 0, 0]], [[1, 1, 1, 1, 1, 1, 1, 1, 1, 5, 1, 1, 1, 0, 0], [61, 61, 61, 61, 61, 61, 61, 61, 61, 61, 61, 61, 61, 0, 0]], [[1, 1, 1, 7, 1, 1, 1, 4, 1, 1, 1, 1, 1, 0, 0], [61, 61, 61, 61, 61, 61, 61, 61, 61, 61, 61, 61, 61, 0, 0]], [[1, 1, 1, 1, 1, 1, 1, 1, 1, 1, 1, 1, 1, 1, 0], [61, 61, 61, 60, 60, 60, 60, 60, 60, 60, 60, 60, 60, 60, 0]], [[1, 1, 1, 1, 1, 1, 1, 1, 1, 1, 1, 1, 1, 1, 0], [61, 61, 61, 60, 60, 60, 60, 60, 60, 60, 60, 60, 60, 60, 0]], [[1, 1, 1, 1, 1, 1, 1, 1, 1, 1, 1, 1, 1, 1, 0], [61, 61, 61, 60, 60, 60, 60, 60, 60, 60, 60, 60, 60, 60, 0]], [[1, 1, 1, 1, 1, 1, 1, 1, 1, 1, 1, 1, 1, 1, 0], [61, 61, 61, 60, 60, 60, 60, 60, 60, 60, 60, 60, 60, 60, 0]]]\n",
      "------------------------------\n",
      "[[[1, 5, 1, 1, 1, 1, 1, 1, 1, 1, 1, 1, 1, 0, 0], [81, 81, 81, 81, 81, 81, 81, 81, 81, 81, 81, 81, 81, 0, 0]], [[1, 1, 1, 1, 1, 1, 1, 1, 1, 1, 1, 1, 1, 1, 1], [81, 81, 81, 81, 81, 81, 81, 81, 81, 81, 81, 81, 81, 81, 81]], [[1, 1, 1, 2, 1, 3, 1, 1, 1, 1, 1, 1, 1, 0, 0], [81, 81, 81, 81, 81, 81, 81, 81, 81, 81, 81, 81, 81, 0, 0]], [[1, 2, 1, 1, 1, 1, 1, 1, 1, 1, 1, 0, 0, 0, 0], [81, 81, 81, 81, 81, 81, 81, 81, 81, 81, 81, 0, 0, 0, 0]], [[4, 1, 1, 1, 1, 1, 1, 1, 1, 1, 1, 1, 1, 0, 0], [81, 81, 81, 81, 81, 81, 81, 81, 81, 81, 81, 81, 81, 0, 0]], [[1, 1, 1, 1, 6, 1, 1, 1, 1, 1, 1, 1, 1, 0, 0], [81, 81, 81, 81, 81, 81, 81, 81, 81, 81, 81, 81, 81, 0, 0]], [[1, 1, 1, 1, 1, 1, 1, 1, 1, 5, 1, 1, 1, 0, 0], [81, 81, 81, 81, 81, 81, 81, 81, 81, 81, 81, 81, 81, 0, 0]], [[1, 1, 1, 7, 1, 1, 1, 4, 1, 1, 1, 1, 1, 0, 0], [81, 81, 81, 81, 81, 81, 81, 81, 81, 81, 81, 81, 81, 0, 0]], [[1, 1, 1, 1, 1, 1, 1, 1, 1, 1, 1, 1, 0, 0, 0], [81, 80, 80, 80, 80, 80, 80, 80, 80, 80, 80, 80, 0, 0, 0]], [[1, 1, 1, 1, 1, 1, 1, 1, 1, 1, 1, 1, 0, 0, 0], [81, 80, 80, 80, 80, 80, 80, 80, 80, 80, 80, 80, 0, 0, 0]], [[1, 1, 1, 1, 1, 1, 1, 1, 1, 1, 1, 1, 0, 0, 0], [81, 80, 80, 80, 80, 80, 80, 80, 80, 80, 80, 80, 0, 0, 0]], [[1, 1, 1, 1, 1, 1, 1, 1, 1, 1, 1, 1, 0, 0, 0], [81, 80, 80, 80, 80, 80, 80, 80, 80, 80, 80, 80, 0, 0, 0]]]\n",
      "------------------------------\n",
      "[[[1, 1, 1, 1, 1, 1, 1, 1, 1, 1, 1, 0, 0, 0, 0], [101, 101, 101, 101, 101, 101, 101, 101, 101, 101, 101, 0, 0, 0, 0]], [[1, 1, 1, 1, 1, 1, 1, 1, 1, 1, 1, 1, 1, 0, 0], [101, 101, 101, 101, 101, 101, 101, 101, 101, 101, 101, 101, 101, 0, 0]], [[1, 1, 1, 2, 1, 3, 1, 1, 1, 1, 1, 1, 1, 0, 0], [101, 101, 101, 101, 101, 101, 101, 101, 101, 101, 101, 101, 101, 0, 0]], [[1, 2, 1, 1, 1, 1, 1, 1, 1, 1, 1, 0, 0, 0, 0], [101, 101, 101, 101, 101, 101, 101, 101, 101, 101, 101, 0, 0, 0, 0]], [[4, 1, 1, 1, 1, 1, 1, 1, 1, 1, 1, 1, 1, 0, 0], [101, 101, 101, 101, 101, 101, 101, 101, 101, 101, 101, 101, 101, 0, 0]], [[1, 1, 1, 1, 6, 1, 1, 1, 1, 1, 1, 1, 1, 0, 0], [101, 101, 101, 101, 101, 101, 101, 101, 101, 101, 101, 101, 101, 0, 0]], [[1, 1, 1, 1, 1, 1, 1, 1, 1, 5, 1, 1, 1, 0, 0], [101, 101, 101, 101, 101, 101, 101, 101, 101, 101, 101, 101, 101, 0, 0]], [[1, 1, 1, 7, 1, 1, 1, 4, 1, 1, 1, 1, 1, 0, 0], [101, 101, 101, 101, 101, 101, 101, 101, 101, 101, 101, 101, 101, 0, 0]], [[1, 1, 1, 1, 1, 1, 1, 1, 0, 0, 0, 0, 0, 0, 0], [100, 100, 100, 100, 100, 100, 100, 100, 0, 0, 0, 0, 0, 0, 0]], [[1, 1, 1, 1, 1, 1, 1, 1, 0, 0, 0, 0, 0, 0, 0], [100, 100, 100, 100, 100, 100, 100, 100, 0, 0, 0, 0, 0, 0, 0]], [[1, 1, 1, 1, 1, 1, 1, 1, 0, 0, 0, 0, 0, 0, 0], [100, 100, 100, 100, 100, 100, 100, 100, 0, 0, 0, 0, 0, 0, 0]], [[1, 1, 1, 1, 1, 1, 1, 1, 0, 0, 0, 0, 0, 0, 0], [100, 100, 100, 100, 100, 100, 100, 100, 0, 0, 0, 0, 0, 0, 0]]]\n",
      "------------------------------\n"
     ]
    }
   ],
   "source": [
    "print(WaitingQueue)\n",
    "print(\"------------------------------\")\n",
    "%minizinc Intersection -m bind\n",
    "print(NewWaitingQueue)\n",
    "print(\"------------------------------\")\n",
    "WaitingQueue = NewWaitingQueue\n",
    "oldPaths = paths\n",
    "%minizinc Intersection -m bind\n",
    "print(NewWaitingQueue)\n",
    "print(\"------------------------------\")"
   ]
  },
  {
   "cell_type": "code",
   "execution_count": 33,
   "metadata": {},
   "outputs": [],
   "source": [
    "%%minizinc?\n",
    "\n"
   ]
  },
  {
   "cell_type": "code",
   "execution_count": null,
   "metadata": {},
   "outputs": [],
   "source": []
  },
  {
   "cell_type": "code",
   "execution_count": null,
   "metadata": {},
   "outputs": [],
   "source": []
  }
 ],
 "metadata": {
  "kernelspec": {
   "display_name": "Python 3",
   "language": "python",
   "name": "python3"
  },
  "language_info": {
   "codemirror_mode": {
    "name": "ipython",
    "version": 3
   },
   "file_extension": ".py",
   "mimetype": "text/x-python",
   "name": "python",
   "nbconvert_exporter": "python",
   "pygments_lexer": "ipython3",
   "version": "3.7.3"
  }
 },
 "nbformat": 4,
 "nbformat_minor": 2
}
