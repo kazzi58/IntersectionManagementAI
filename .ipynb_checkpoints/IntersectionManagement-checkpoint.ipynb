{
 "cells": [
  {
   "cell_type": "code",
   "execution_count": 46,
   "metadata": {},
   "outputs": [
    {
     "name": "stdout",
     "output_type": "stream",
     "text": [
      "The iminizinc extension is already loaded. To reload it, use:\n",
      "  %reload_ext iminizinc\n"
     ]
    }
   ],
   "source": [
    "import numpy as np\n",
    "%load_ext iminizinc"
   ]
  },
  {
   "cell_type": "markdown",
   "metadata": {},
   "source": [
    "#### Defining Priority Values\n",
    "\n",
    "The priority values used in this model are:\n",
    "- 'Low'\n",
    "- 'Medium'\n",
    "- 'High'\n",
    "- 'Very High'\n",
    "- 'Emergency'"
   ]
  },
  {
   "cell_type": "code",
   "execution_count": 47,
   "metadata": {},
   "outputs": [],
   "source": [
    "PriorityDict = {'Low':5,'Medium':10,'High':15,'Very High':20,'Emergency':25}"
   ]
  },
  {
   "cell_type": "markdown",
   "metadata": {},
   "source": [
    "#### Defining Paths\n",
    "\n",
    "The path values used in this model are:\n",
    "- 'NW' (North to West)\n",
    "- 'NS' (North to South)\n",
    "- 'NE' (North to East)\n",
    "- 'WS' (West to South)\n",
    "- 'WE' (West to East)\n",
    "- 'WN' (West to North)\n",
    "- 'SE' (South to East)\n",
    "- 'SN' (South to North)\n",
    "- 'SW' (South to West)\n",
    "- 'EN' (East to North)\n",
    "- 'EW' (East to West)\n",
    "- 'ES' (East to South)"
   ]
  },
  {
   "cell_type": "code",
   "execution_count": 48,
   "metadata": {},
   "outputs": [],
   "source": [
    "PathDict = {'SN':1,'SE':2,'EW':3,'EN':4,'NS':5,'NW':6,'WE':7,'WS':8,'SW':9,'ES':10,'NE':11,'WN':12}"
   ]
  },
  {
   "cell_type": "markdown",
   "metadata": {},
   "source": [
    "#### Empty Intersection Generation"
   ]
  },
  {
   "cell_type": "code",
   "execution_count": 49,
   "metadata": {
    "scrolled": true
   },
   "outputs": [],
   "source": [
    "def GenEmptyIntersection():\n",
    "    Path = np.zeros((12,),dtype=int)\n",
    "    Queue = np.zeros((12,2,15))\n",
    "    return Path.tolist(), Queue.tolist()"
   ]
  },
  {
   "cell_type": "code",
   "execution_count": 50,
   "metadata": {},
   "outputs": [],
   "source": [
    "# oldPaths, WaitingQueue = GenEmptyIntersection()"
   ]
  },
  {
   "cell_type": "markdown",
   "metadata": {},
   "source": [
    "#### Random Intersection Generation"
   ]
  },
  {
   "cell_type": "code",
   "execution_count": 51,
   "metadata": {},
   "outputs": [],
   "source": [
    "def GenRandomIntersection():\n",
    "    Path = np.zeros((12,),dtype=int)\n",
    "    Queue = np.random.randint(5,size=(12,2,15))\n",
    "    Queue = Queue * 5\n",
    "    Queue = Queue + 5\n",
    "    for i in range(0,12):\n",
    "        for j in range(0,15):\n",
    "            Queue[i,1,j] = 0\n",
    "    return Path.tolist(), Queue.tolist()"
   ]
  },
  {
   "cell_type": "code",
   "execution_count": 52,
   "metadata": {},
   "outputs": [
    {
     "name": "stdout",
     "output_type": "stream",
     "text": [
      "[0, 0, 0, 0, 0, 0, 0, 0, 0, 0, 0, 0]\n",
      "[[[20, 15, 5, 15, 15, 15, 15, 5, 5, 25, 20, 20, 10, 5, 25], [0, 0, 0, 0, 0, 0, 0, 0, 0, 0, 0, 0, 0, 0, 0]], [[5, 5, 15, 5, 5, 15, 15, 5, 25, 25, 10, 10, 5, 25, 10], [0, 0, 0, 0, 0, 0, 0, 0, 0, 0, 0, 0, 0, 0, 0]], [[15, 5, 5, 15, 10, 25, 25, 20, 5, 15, 20, 10, 20, 10, 15], [0, 0, 0, 0, 0, 0, 0, 0, 0, 0, 0, 0, 0, 0, 0]], [[25, 20, 10, 15, 15, 20, 20, 20, 5, 10, 20, 25, 20, 25, 20], [0, 0, 0, 0, 0, 0, 0, 0, 0, 0, 0, 0, 0, 0, 0]], [[20, 5, 20, 25, 10, 5, 20, 25, 25, 10, 15, 15, 15, 15, 20], [0, 0, 0, 0, 0, 0, 0, 0, 0, 0, 0, 0, 0, 0, 0]], [[25, 5, 5, 5, 15, 25, 20, 25, 20, 10, 15, 5, 20, 25, 15], [0, 0, 0, 0, 0, 0, 0, 0, 0, 0, 0, 0, 0, 0, 0]], [[20, 15, 15, 15, 5, 25, 20, 5, 10, 20, 20, 20, 25, 10, 20], [0, 0, 0, 0, 0, 0, 0, 0, 0, 0, 0, 0, 0, 0, 0]], [[25, 10, 15, 5, 15, 10, 10, 10, 10, 5, 10, 5, 5, 25, 15], [0, 0, 0, 0, 0, 0, 0, 0, 0, 0, 0, 0, 0, 0, 0]], [[15, 15, 10, 10, 20, 10, 20, 25, 25, 15, 10, 20, 5, 10, 15], [0, 0, 0, 0, 0, 0, 0, 0, 0, 0, 0, 0, 0, 0, 0]], [[15, 5, 20, 10, 20, 20, 15, 20, 10, 10, 25, 20, 10, 25, 5], [0, 0, 0, 0, 0, 0, 0, 0, 0, 0, 0, 0, 0, 0, 0]], [[5, 25, 20, 5, 25, 10, 25, 5, 15, 25, 5, 5, 5, 5, 5], [0, 0, 0, 0, 0, 0, 0, 0, 0, 0, 0, 0, 0, 0, 0]], [[20, 5, 20, 20, 5, 10, 15, 25, 20, 20, 5, 25, 5, 5, 5], [0, 0, 0, 0, 0, 0, 0, 0, 0, 0, 0, 0, 0, 0, 0]]]\n"
     ]
    }
   ],
   "source": [
    "oldPaths, WaitingQueue = GenRandomIntersection()\n",
    "print(oldPaths)\n",
    "print(WaitingQueue)"
   ]
  },
  {
   "cell_type": "markdown",
   "metadata": {},
   "source": [
    "#### Add Vehicle to the existing Queue at a specific lane"
   ]
  },
  {
   "cell_type": "code",
   "execution_count": 53,
   "metadata": {},
   "outputs": [],
   "source": [
    "def AddVehicle(Priority, Path, Queue):\n",
    "    Wait = np.array(Queue)\n",
    "    assert Priority in PriorityDict,\"Not a valid Priority\"\n",
    "    assert Path in PathDict,\"Not a valid Path\"\n",
    "    \n",
    "    for j in range(0,15):\n",
    "        if Wait[PathDict[Path]-1,0,j] == 0:\n",
    "            Wait[PathDict[Path]-1,0,j]=PriorityDict[Priority]\n",
    "            break\n",
    "    return Wait.tolist()            "
   ]
  },
  {
   "cell_type": "code",
   "execution_count": 54,
   "metadata": {},
   "outputs": [],
   "source": [
    "# WaitingQueue = AddVehicle('Low','SE',WaitingQueue)\n",
    "# print(np.array(WaitingQueue))"
   ]
  },
  {
   "cell_type": "markdown",
   "metadata": {},
   "source": [
    "#### Manually generated Queue for Intersection"
   ]
  },
  {
   "cell_type": "code",
   "execution_count": 55,
   "metadata": {},
   "outputs": [],
   "source": [
    "# WaitingQueue= [[[ 1, 5, 1, 1, 1, 1, 1, 1, 1, 1, 1, 1, 1, 0, 0],[61, 61, 61, 61, 61, 61, 61, 61, 61, 61, 61, 61, 61, 0, 0 ]],\n",
    "# [[1, 1, 1, 1, 1, 1, 1, 1, 1, 1, 1, 1, 1, 1, 1],[61, 61, 61, 61, 61, 61, 61, 61, 61, 61, 61, 61, 61, 61, 61]],\n",
    "# [[1, 1, 1, 1, 1, 2, 1, 3, 1, 1, 1, 1, 1, 1, 1 ],[61, 61, 61, 61, 61, 61, 61, 61, 61, 61, 61, 61, 61, 61, 61]],\n",
    "# [[1, 6, 1, 2, 1, 1, 1, 1, 1, 1, 1, 1, 1, 0, 0],[61, 61, 61, 61, 61, 61, 61, 61, 61, 61, 61, 61, 61, 0, 0]],\n",
    "# [[4, 1, 1, 1, 1, 1, 1, 1, 1, 1, 1, 1, 1, 0, 0],[61, 61, 61, 61, 61, 61, 61, 61, 61, 61, 61, 61, 61, 0, 0]],\n",
    "# [[1, 1, 1, 1, 6, 1, 1, 1, 1, 1, 1, 1, 1, 0, 0],[61, 61, 61, 61, 61, 61, 61, 61, 61, 61, 61, 61, 61, 0, 0]],\n",
    "# [[1, 1, 1, 1, 1, 1, 1, 1, 1, 5, 1, 1, 1, 0, 0],[61, 61, 61, 61, 61, 61, 61, 61, 61, 61, 61, 61, 61, 0, 0]],\n",
    "# [[1, 1, 1, 7, 1, 1, 1, 4, 1, 1, 1, 1, 1, 0, 0],[61, 61, 61, 61, 61, 61, 61, 61, 61, 61, 61, 61, 61, 0, 0]],\n",
    "# [[1, 1, 1, 1, 1, 1, 1, 1, 1, 1, 1, 1, 1, 1, 0],[61, 61, 61, 60, 60, 60, 60, 60, 60, 60, 60, 60, 60, 60, 0]],\n",
    "# [[1, 1, 1, 1, 1, 1, 1, 1, 1, 1, 1, 1, 1, 1, 0],[61, 61, 61, 60, 60, 60, 60, 60, 60, 60, 60, 60, 60, 60, 0]],\n",
    "# [[1, 1, 1, 1, 1, 1, 1, 1, 1, 1, 1, 1, 1, 1, 0],[61, 61, 61, 60, 60, 60, 60, 60, 60, 60, 60, 60, 60, 60, 0]],\n",
    "# [[1, 1, 1, 1, 1, 1, 1, 1, 1, 1, 1, 1, 1, 1, 0],[61, 61, 61, 60, 60, 60, 60, 60, 60, 60, 60, 60, 60, 60, 0]]]"
   ]
  },
  {
   "cell_type": "code",
   "execution_count": 56,
   "metadata": {},
   "outputs": [],
   "source": [
    "# print(np.shape(WaitingQueue))\n",
    "# print(np.shape(oldPaths))"
   ]
  },
  {
   "cell_type": "markdown",
   "metadata": {},
   "source": [
    "#### Minizinc model for intersection management\n",
    "The model uses the 'oldPaths' and 'WaitingQueue' variables that were previously available to generate 'paths' and 'NewWaitingQueue' variables. For this, the model considers all the constraints. Some of the constraints are:\n",
    "- There are combinations of paths that cannot remain simultaneously open.\n",
    "- Different vehicles have different priorities. Waiting cost of a single vehicle is calculated by multiplying the time it has been waiting with its priority value.\n",
    "- The total waiting cost of the system needs to be minimized.\n",
    "- Changing a particular signal from red to green has an additional cost."
   ]
  },
  {
   "cell_type": "code",
   "execution_count": 57,
   "metadata": {},
   "outputs": [],
   "source": [
    "%%mzn_model Intersection\n",
    "\n",
    "\n",
    "int: maxQueue = 15;\n",
    "set of int: AllPaths = 1..12;\n",
    "set of int: Serial = 1..15;\n",
    "set of int: Property = 1..2;\n",
    "\n",
    "array[AllPaths,Property,Serial] of int: WaitingQueue;\n",
    "array[AllPaths,Property,Serial] of var int: NewWaitingQueue;\n",
    "\n",
    "\n",
    "\n",
    "%Paths array holds all the 12 paths available in a 6 lane street intersection. The variables will be turned to 0 to represent red light and 1 to represent green light.\n",
    "array[AllPaths] of var 0..1: paths;\n",
    "\n",
    "array[AllPaths] of 0..1: oldPaths;\n",
    "\n",
    "%Cost of keeping a red light red\n",
    "int:WaitingCost = 20;\n",
    "\n",
    "%All the paths that cannot be simultaneously on\n",
    "constraint paths[1]*paths[3]=0;\n",
    "constraint paths[1]*paths[6]=0;\n",
    "constraint paths[1]*paths[8]=0;\n",
    "constraint paths[1]*paths[7]=0;\n",
    "constraint paths[2]*paths[3]=0;\n",
    "constraint paths[2]*paths[4]=0;\n",
    "constraint paths[2]*paths[8]=0;\n",
    "constraint paths[2]*paths[6]=0;\n",
    "constraint paths[2]*paths[5]=0;\n",
    "constraint paths[3]*paths[5]=0;\n",
    "constraint paths[3]*paths[8]=0;\n",
    "constraint paths[4]*paths[5]=0;\n",
    "constraint paths[4]*paths[8]=0;\n",
    "constraint paths[4]*paths[6]=0;\n",
    "constraint paths[4]*paths[7]=0;\n",
    "constraint paths[5]*paths[7]=0;\n",
    "constraint paths[6]*paths[7]=0;\n",
    "constraint paths[6]*paths[8]=0;\n",
    "\n",
    "%Waiting time cannot be negative\n",
    "constraint forall(i in AllPaths,k in Serial)(NewWaitingQueue[i,2,k]>=0);\n",
    "\n",
    "%Updating the priorities\n",
    "constraint \n",
    "forall(i in AllPaths,k in Serial)(\n",
    "%RED LIGHT\n",
    "if paths[i]==0 then\n",
    "NewWaitingQueue[i,1,k]=WaitingQueue[i,1,k]\n",
    "%GREEN LIGHT\n",
    "elseif oldPaths[i]==1 /\\ k<=11 then %4 cars exiting queue\n",
    "  NewWaitingQueue[i,1,k] = WaitingQueue[i,1,k+4]\n",
    "elseif oldPaths[i]==1 /\\ k>11 then %4 new spaces in the queue\n",
    "  NewWaitingQueue[i,1,k] = 0\n",
    "elseif oldPaths[i]==0 /\\ k<=13 then %2 cars exiting queue\n",
    "  NewWaitingQueue[i,1,k] = WaitingQueue[i,1,k+2]\n",
    "elseif oldPaths[i]==0 /\\ k>13 then %2 new spaces in the queue\n",
    "  NewWaitingQueue[i,1,k] = 0\n",
    "else true\n",
    "endif\n",
    ");\n",
    "\n",
    "%Updating the waiting time\n",
    "constraint \n",
    "forall(i in AllPaths,k in Serial)(\n",
    "%RED LIGHT\n",
    "if paths[i]==0 /\\ WaitingQueue[i,1,k]>0 then \n",
    "NewWaitingQueue[i,2,k]=(WaitingQueue[i,2,k]+WaitingCost)\n",
    "%GREEN LIGHT\n",
    "elseif oldPaths[i]==1 /\\ k<=11 /\\ WaitingQueue[i,1,k+4]>0 then %4 cars exiting queue\n",
    "  NewWaitingQueue[i,2,k] = WaitingQueue[i,2,k+4]+WaitingCost\n",
    "elseif oldPaths[i]==1 /\\ k<=11 /\\ WaitingQueue[i,1,k+4]==0 then\n",
    "  NewWaitingQueue[i,2,k] = 0\n",
    "elseif oldPaths[i]==1 /\\ k>11 then %4 new spaces in the queue\n",
    "  NewWaitingQueue[i,2,k] = 0\n",
    "elseif oldPaths[i]==0 /\\ k<=13 /\\ WaitingQueue[i,1,k+2]>0 then %2 cars exiting queue\n",
    "  NewWaitingQueue[i,2,k] = WaitingQueue[i,2,k+2]+WaitingCost\n",
    "elseif oldPaths[i]==0 /\\ k<=13 /\\ WaitingQueue[i,1,k+2]==0 then\n",
    "  NewWaitingQueue[i,2,k] = 0\n",
    "elseif oldPaths[i]==0 /\\ k>13 then %2 new spaces in the queue\n",
    "  NewWaitingQueue[i,2,k] = 0\n",
    "else true\n",
    "endif\n",
    "\n",
    ");\n",
    "\n",
    "\n",
    "var int: TotalSum = sum(i in AllPaths,j in Property, k in Serial)(abs(paths[i]-1)*NewWaitingQueue[i,j,k]);\n",
    "\n",
    "solve minimize TotalSum;\n"
   ]
  },
  {
   "cell_type": "code",
   "execution_count": 58,
   "metadata": {},
   "outputs": [
    {
     "name": "stdout",
     "output_type": "stream",
     "text": [
      "--------------xxxxxxxx----------------\n",
      "[0, 0, 0, 0, 0, 0, 0, 0, 0, 0, 0, 0]\n",
      "--------------xxxxxxxx----------------\n",
      "[[[20 15  5 15 15 15 15  5  5 25 20 20 10  5 25]\n",
      "  [ 0  0  0  0  0  0  0  0  0  0  0  0  0  0  0]]\n",
      "\n",
      " [[ 5  5 15  5  5 15 15  5 25 25 10 10  5 25 10]\n",
      "  [ 0  0  0  0  0  0  0  0  0  0  0  0  0  0  0]]\n",
      "\n",
      " [[15  5  5 15 10 25 25 20  5 15 20 10 20 10 15]\n",
      "  [ 0  0  0  0  0  0  0  0  0  0  0  0  0  0  0]]\n",
      "\n",
      " [[25 20 10 15 15 20 20 20  5 10 20 25 20 25 20]\n",
      "  [ 0  0  0  0  0  0  0  0  0  0  0  0  0  0  0]]\n",
      "\n",
      " [[20  5 20 25 10  5 20 25 25 10 15 15 15 15 20]\n",
      "  [ 0  0  0  0  0  0  0  0  0  0  0  0  0  0  0]]\n",
      "\n",
      " [[25  5  5  5 15 25 20 25 20 10 15  5 20 25 15]\n",
      "  [ 0  0  0  0  0  0  0  0  0  0  0  0  0  0  0]]\n",
      "\n",
      " [[20 15 15 15  5 25 20  5 10 20 20 20 25 10 20]\n",
      "  [ 0  0  0  0  0  0  0  0  0  0  0  0  0  0  0]]\n",
      "\n",
      " [[25 10 15  5 15 10 10 10 10  5 10  5  5 25 15]\n",
      "  [ 0  0  0  0  0  0  0  0  0  0  0  0  0  0  0]]\n",
      "\n",
      " [[15 15 10 10 20 10 20 25 25 15 10 20  5 10 15]\n",
      "  [ 0  0  0  0  0  0  0  0  0  0  0  0  0  0  0]]\n",
      "\n",
      " [[15  5 20 10 20 20 15 20 10 10 25 20 10 25  5]\n",
      "  [ 0  0  0  0  0  0  0  0  0  0  0  0  0  0  0]]\n",
      "\n",
      " [[ 5 25 20  5 25 10 25  5 15 25  5  5  5  5  5]\n",
      "  [ 0  0  0  0  0  0  0  0  0  0  0  0  0  0  0]]\n",
      "\n",
      " [[20  5 20 20  5 10 15 25 20 20  5 25  5  5  5]\n",
      "  [ 0  0  0  0  0  0  0  0  0  0  0  0  0  0  0]]]\n",
      "--------------xxxxxxxx----------------\n",
      "[1, 0, 0, 1, 0, 0, 0, 0, 1, 1, 1, 1]\n",
      "--------------xxxxxxxx----------------\n",
      "[[[ 5 15 15 15 15  5  5 25 20 20 10  5 25  0  0]\n",
      "  [20 20 20 20 20 20 20 20 20 20 20 20 20  0  0]]\n",
      "\n",
      " [[ 5  5 15  5  5 15 15  5 25 25 10 10  5 25 10]\n",
      "  [20 20 20 20 20 20 20 20 20 20 20 20 20 20 20]]\n",
      "\n",
      " [[15  5  5 15 10 25 25 20  5 15 20 10 20 10 15]\n",
      "  [20 20 20 20 20 20 20 20 20 20 20 20 20 20 20]]\n",
      "\n",
      " [[10 15 15 20 20 20  5 10 20 25 20 25 20  0  0]\n",
      "  [20 20 20 20 20 20 20 20 20 20 20 20 20  0  0]]\n",
      "\n",
      " [[20  5 20 25 10  5 20 25 25 10 15 15 15 15 20]\n",
      "  [20 20 20 20 20 20 20 20 20 20 20 20 20 20 20]]\n",
      "\n",
      " [[25  5  5  5 15 25 20 25 20 10 15  5 20 25 15]\n",
      "  [20 20 20 20 20 20 20 20 20 20 20 20 20 20 20]]\n",
      "\n",
      " [[20 15 15 15  5 25 20  5 10 20 20 20 25 10 20]\n",
      "  [20 20 20 20 20 20 20 20 20 20 20 20 20 20 20]]\n",
      "\n",
      " [[25 10 15  5 15 10 10 10 10  5 10  5  5 25 15]\n",
      "  [20 20 20 20 20 20 20 20 20 20 20 20 20 20 20]]\n",
      "\n",
      " [[10 10 20 10 20 25 25 15 10 20  5 10 15  0  0]\n",
      "  [20 20 20 20 20 20 20 20 20 20 20 20 20  0  0]]\n",
      "\n",
      " [[20 10 20 20 15 20 10 10 25 20 10 25  5  0  0]\n",
      "  [20 20 20 20 20 20 20 20 20 20 20 20 20  0  0]]\n",
      "\n",
      " [[20  5 25 10 25  5 15 25  5  5  5  5  5  0  0]\n",
      "  [20 20 20 20 20 20 20 20 20 20 20 20 20  0  0]]\n",
      "\n",
      " [[20 20  5 10 15 25 20 20  5 25  5  5  5  0  0]\n",
      "  [20 20 20 20 20 20 20 20 20 20 20 20 20  0  0]]]\n",
      "--------------xxxxxxxx----------------\n",
      "[0, 0, 0, 0, 1, 1, 0, 0, 1, 1, 1, 1]\n",
      "--------------xxxxxxxx----------------\n",
      "[[[ 5 15 15 15 15  5  5 25 20 20 10  5 25  0  0]\n",
      "  [40 40 40 40 40 40 40 40 40 40 40 40 40  0  0]]\n",
      "\n",
      " [[ 5  5 15  5  5 15 15  5 25 25 10 10  5 25 10]\n",
      "  [40 40 40 40 40 40 40 40 40 40 40 40 40 40 40]]\n",
      "\n",
      " [[15  5  5 15 10 25 25 20  5 15 20 10 20 10 15]\n",
      "  [40 40 40 40 40 40 40 40 40 40 40 40 40 40 40]]\n",
      "\n",
      " [[10 15 15 20 20 20  5 10 20 25 20 25 20  0  0]\n",
      "  [40 40 40 40 40 40 40 40 40 40 40 40 40  0  0]]\n",
      "\n",
      " [[20 25 10  5 20 25 25 10 15 15 15 15 20  0  0]\n",
      "  [40 40 40 40 40 40 40 40 40 40 40 40 40  0  0]]\n",
      "\n",
      " [[ 5  5 15 25 20 25 20 10 15  5 20 25 15  0  0]\n",
      "  [40 40 40 40 40 40 40 40 40 40 40 40 40  0  0]]\n",
      "\n",
      " [[20 15 15 15  5 25 20  5 10 20 20 20 25 10 20]\n",
      "  [40 40 40 40 40 40 40 40 40 40 40 40 40 40 40]]\n",
      "\n",
      " [[25 10 15  5 15 10 10 10 10  5 10  5  5 25 15]\n",
      "  [40 40 40 40 40 40 40 40 40 40 40 40 40 40 40]]\n",
      "\n",
      " [[20 25 25 15 10 20  5 10 15  0  0  0  0  0  0]\n",
      "  [40 40 40 40 40 40 40 40 40  0  0  0  0  0  0]]\n",
      "\n",
      " [[15 20 10 10 25 20 10 25  5  0  0  0  0  0  0]\n",
      "  [40 40 40 40 40 40 40 40 40  0  0  0  0  0  0]]\n",
      "\n",
      " [[25  5 15 25  5  5  5  5  5  0  0  0  0  0  0]\n",
      "  [40 40 40 40 40 40 40 40 40  0  0  0  0  0  0]]\n",
      "\n",
      " [[15 25 20 20  5 25  5  5  5  0  0  0  0  0  0]\n",
      "  [40 40 40 40 40 40 40 40 40  0  0  0  0  0  0]]]\n"
     ]
    }
   ],
   "source": [
    "print(\"--------------xxxxxxxx----------------\")\n",
    "print(oldPaths)\n",
    "print(\"--------------xxxxxxxx----------------\")\n",
    "print(np.array(WaitingQueue))\n",
    "\n",
    "%minizinc Intersection -m bind\n",
    "oldPaths = paths\n",
    "WaitingQueue = NewWaitingQueue\n",
    "print(\"--------------xxxxxxxx----------------\")\n",
    "print(oldPaths)\n",
    "print(\"--------------xxxxxxxx----------------\")\n",
    "print(np.array(WaitingQueue))\n",
    "\n",
    "%minizinc Intersection -m bind\n",
    "oldPaths = paths\n",
    "WaitingQueue = NewWaitingQueue\n",
    "print(\"--------------xxxxxxxx----------------\")\n",
    "print(oldPaths)\n",
    "print(\"--------------xxxxxxxx----------------\")\n",
    "print(np.array(WaitingQueue))"
   ]
  },
  {
   "cell_type": "code",
   "execution_count": 59,
   "metadata": {},
   "outputs": [],
   "source": [
    "%%minizinc?\n",
    "\n"
   ]
  },
  {
   "cell_type": "code",
   "execution_count": null,
   "metadata": {},
   "outputs": [],
   "source": []
  },
  {
   "cell_type": "code",
   "execution_count": null,
   "metadata": {},
   "outputs": [],
   "source": []
  }
 ],
 "metadata": {
  "kernelspec": {
   "display_name": "Python 3",
   "language": "python",
   "name": "python3"
  },
  "language_info": {
   "codemirror_mode": {
    "name": "ipython",
    "version": 3
   },
   "file_extension": ".py",
   "mimetype": "text/x-python",
   "name": "python",
   "nbconvert_exporter": "python",
   "pygments_lexer": "ipython3",
   "version": "3.7.3"
  }
 },
 "nbformat": 4,
 "nbformat_minor": 2
}
